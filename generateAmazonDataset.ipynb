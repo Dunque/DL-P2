{
 "cells": [
  {
   "attachments": {},
   "cell_type": "markdown",
   "id": "ede0fafb",
   "metadata": {},
   "source": [
    "# DEEP LEARNING - PRACTICUM 02b\n",
    "\n",
    "- Diego Roca Rodríguez\n",
    "- Roi Santos Ríos\n",
    "\n",
    "In this practicum we will various RNN models in order to solve a sentiment analysis problem for Amazon product reviews. The problem has been simplified to a binary clasification, were reviews that score a 1 or 2 are labeled as \"bad\" and reviews that score a 4 or 5 are labeled as \"good\"."
   ]
  },
  {
   "cell_type": "code",
   "execution_count": null,
   "id": "27f4c4ce",
   "metadata": {},
   "outputs": [],
   "source": [
    "import os\n",
    "import numpy as np\n",
    "import tensorflow as tf\n",
    "from tensorflow import keras\n",
    "from tensorflow.keras import layers\n",
    "from keras.models import Sequential\n",
    "import matplotlib.pyplot as plt"
   ]
  },
  {
   "cell_type": "code",
   "execution_count": 3,
   "id": "d2a09fb1",
   "metadata": {},
   "outputs": [],
   "source": [
    "#reads a file. Each line has the format: label text\n",
    "#Returns a list with the text and a list with the labels\n",
    "def readData(fname):\n",
    "\n",
    "    with open(fname, 'r', encoding=\"utf-8\") as f:\n",
    "        fileData = f.read()\n",
    "  \n",
    "    lines = fileData.split(\"\\n\")\n",
    "    textData = list()\n",
    "    textLabel = list()\n",
    "    lineLength = np.zeros(len(lines))\n",
    "    \n",
    "    for i, aLine in enumerate(lines):     \n",
    "        if not aLine:\n",
    "            break  \n",
    "        label = aLine.split(\" \")[0]\n",
    "        lineLength[i] = len(aLine.split(\" \"))\n",
    "        if(label == \"__label__1\"):\n",
    "            textLabel.append(0)\n",
    "            textData.append(aLine.removeprefix(\"__label__1 \"))\n",
    "\n",
    "        elif(label == \"__label__2\"):\n",
    "            textLabel.append(1)\n",
    "            textData.append(aLine.removeprefix(\"__label__2 \"))\n",
    "\n",
    "        else:\n",
    "            print(\"\\nError in readData: \", i, aLine)\n",
    "            exit()\n",
    "    \n",
    "    f.close()\n",
    "    return textData, textLabel, int(np.average(lineLength)+2*np.std(lineLength))"
   ]
  },
  {
   "cell_type": "code",
   "execution_count": 4,
   "id": "2731ee70",
   "metadata": {},
   "outputs": [],
   "source": [
    "def transformData(x_train, y_train, x_test, y_test, maxFeatures, seqLength):\n",
    "    #transforms text input to int input based on the vocabulary\n",
    "    #max_tokens = maxFeatures is the size of the vocabulary\n",
    "    #output_sequence_length =  seqLength is the maximum length of the transformed text. Adds 0 is text length is shorter\n",
    "    precLayer = layers.experimental.preprocessing.TextVectorization(max_tokens = maxFeatures, \n",
    "    standardize =  'lower_and_strip_punctuation', split = 'whitespace', output_mode = 'int', \n",
    "    output_sequence_length =  seqLength)\n",
    "    precLayer.adapt(x_train)\n",
    "    #print(precLayer.get_vocabulary())\n",
    "    x_train_int = precLayer(x_train)\n",
    "    y_train = tf.convert_to_tensor(y_train)\n",
    "    #print(x_train_int)\n",
    "    #print(y_train)\n",
    "    x_test_int= precLayer(x_test)\n",
    "    y_test = tf.convert_to_tensor(y_test)\n",
    "    #print(x_test_int)\n",
    "    #print(y_test)\n",
    "\n",
    "    return x_train_int, y_train, x_test_int, y_test"
   ]
  },
  {
   "cell_type": "code",
   "execution_count": 31,
   "id": "db189834",
   "metadata": {},
   "outputs": [],
   "source": [
    "x_train, y_train, seqLength = readData(\"data/amazon/train_small.txt\")\n",
    "x_test, y_test, tmp = readData(\"data/amazon/test_small.txt\")\n",
    "\n",
    "#maxFeatures is a hyperparameter\n",
    "maxFeatures = 15000\n",
    "\n",
    "x_train_int, y_train, x_test_int, y_test = transformData(x_train, y_train, x_test, y_test, \n",
    "maxFeatures, seqLength)"
   ]
  },
  {
   "attachments": {},
   "cell_type": "markdown",
   "id": "dc7f75ff",
   "metadata": {},
   "source": [
    "# Dataset\n",
    "Now we check the distribution of the classes, in order to know if we need to apply any balancing techniques. We will not delve into the language difference, as the solution to it isn't very clear. \n",
    "- We could detect and translate the minority language to the majority one, that way the model would have more samples of the same language anmd thus would learn better, but that would remove its capability of understanding the minority language.\n",
    "- We could also translate all text to both languages, increasing the overall samples of each language, thus improving the model, but this would imply using pre-existing language models to identify the samples' language and translate it, thus kinda defeating the purpose of this practical assignment."
   ]
  },
  {
   "cell_type": "code",
   "execution_count": 6,
   "id": "7332d2ad",
   "metadata": {},
   "outputs": [
    {
     "name": "stdout",
     "output_type": "stream",
     "text": [
      "Number of training examples for label 0:  12117\n",
      "Number of training examples for label 1:  12883\n",
      "Number of test examples for label 0:  12157\n",
      "Number of test examples for label 1:  12843\n"
     ]
    },
    {
     "data": {
      "image/png": "[encoded data removed]",
      "text/plain": [
       "<Figure size 640x480 with 2 Axes>"
      ]
     },
     "metadata": {},
     "output_type": "display_data"
    }
   ],
   "source": [
    "# Create a plot that contains two subplots, one for the distribution of labels of the training data and one for the test data\n",
    "fig, axs = plt.subplots(1, 2, sharey=True, tight_layout=True)\n",
    "\n",
    "# Plot the distribution of labels of the training data\n",
    "axs[0].hist(y_train, bins=2, rwidth=0.8)\n",
    "# Add a title to the first subplot\n",
    "axs[0].set_title('Training data')\n",
    "# Label the x-axis of the first subplot with each label\n",
    "axs[0].set_xticks([0, 1])\n",
    "\n",
    "# Plot the distribution of labels of the test data\n",
    "axs[1].hist(y_test, bins=2, rwidth=0.8)\n",
    "# Add a title to the second subplot\n",
    "axs[1].set_title('Test data')\n",
    "# Label the x-axis of the first subplot with each label\n",
    "axs[1].set_xticks([0, 1])\n",
    "\n",
    "# Print the number of training examples and the number of test examples for each label\n",
    "print(\"Number of training examples for label 0: \", np.sum(y_train == 0))\n",
    "print(\"Number of training examples for label 1: \", np.sum(y_train == 1))\n",
    "print(\"Number of test examples for label 0: \", np.sum(y_test == 0))\n",
    "print(\"Number of test examples for label 1: \", np.sum(y_test == 1))"
   ]
  },
  {
   "attachments": {},
   "cell_type": "markdown",
   "id": "1ee79d46",
   "metadata": {},
   "source": [
    "As shown by the plots, there is no need to perform any dataset balancing, as the labels are divided almost evenly"
   ]
  },
  {
   "attachments": {},
   "cell_type": "markdown",
   "id": "cd29141a",
   "metadata": {},
   "source": [
    "# Architecture\n",
    "\n",
    "As proven in the previous practical assignment, Bidirectional LSTMs were the best performing architecture, so even though this is a compeltely different problem, they give us an indication on which model to try first.\n",
    "\n",
    "We used a dropout of 0.6 as to decrease the severe overfitting that the network suffers, as lesser dropout values weren't enough. Dimensionalities higher than 20 were producing slightly worse results, as well as drastically increasing the training time, so we settled for 20. The Embedding layer learned well enough with a dimensionality of 40, and the base sequence length was well suited, larger values would insert too much padding in the shorter phrases.\n",
    "\n",
    "We've tried relu as well as sigmoid for the activation functions, but sigmoid was slightly better. Same with the optimizers, we tested adam and rmsprop, of which rmsprop was slightly better."
   ]
  },
  {
   "cell_type": "code",
   "execution_count": 28,
   "id": "060c5769",
   "metadata": {},
   "outputs": [
    {
     "name": "stdout",
     "output_type": "stream",
     "text": [
      "Model: \"sequential_8\"\n",
      "_________________________________________________________________\n",
      " Layer (type)                Output Shape              Param #   \n",
      "=================================================================\n",
      " embedding_8 (Embedding)     (None, 166, 40)           200000    \n",
      "                                                                 \n",
      " bidirectional_8 (Bidirectio  (None, 40)               9760      \n",
      " nal)                                                            \n",
      "                                                                 \n",
      " dense_8 (Dense)             (None, 1)                 41        \n",
      "                                                                 \n",
      "=================================================================\n",
      "Total params: 209,801\n",
      "Trainable params: 209,801\n",
      "Non-trainable params: 0\n",
      "_________________________________________________________________\n"
     ]
    }
   ],
   "source": [
    "model = Sequential()\n",
    "\n",
    "model.add(layers.Embedding(maxFeatures, 40, input_length=seqLength))\n",
    "model.add(layers.Bidirectional(layers.LSTM(20,dropout=0.6)))\n",
    "\n",
    "model.add(layers.Dense(1,activation='sigmoid'))\n",
    "\n",
    "model.compile(optimizer='rmsprop',loss='binary_crossentropy', metrics=['accuracy'])\n",
    "\n",
    "\n",
    "model.summary()"
   ]
  },
  {
   "cell_type": "code",
   "execution_count": 29,
   "id": "bc1a2816",
   "metadata": {},
   "outputs": [
    {
     "name": "stdout",
     "output_type": "stream",
     "text": [
      "Epoch 1/70\n",
      "782/782 [==============================] - 195s 246ms/step - loss: 0.4381 - accuracy: 0.7901 - val_loss: 0.3092 - val_accuracy: 0.8714\n",
      "Epoch 2/70\n",
      "782/782 [==============================] - 208s 266ms/step - loss: 0.2805 - accuracy: 0.8852 - val_loss: 0.3341 - val_accuracy: 0.8696\n",
      "Epoch 3/70\n",
      "782/782 [==============================] - 216s 276ms/step - loss: 0.2522 - accuracy: 0.8995 - val_loss: 0.3407 - val_accuracy: 0.8636\n",
      "Epoch 4/70\n",
      "782/782 [==============================] - 206s 264ms/step - loss: 0.2365 - accuracy: 0.9074 - val_loss: 0.2859 - val_accuracy: 0.8860\n",
      "Epoch 5/70\n",
      "782/782 [==============================] - 202s 258ms/step - loss: 0.2289 - accuracy: 0.9116 - val_loss: 0.2817 - val_accuracy: 0.8886\n",
      "Epoch 6/70\n",
      "782/782 [==============================] - 204s 261ms/step - loss: 0.2220 - accuracy: 0.9142 - val_loss: 0.2694 - val_accuracy: 0.8928\n",
      "Epoch 7/70\n",
      "782/782 [==============================] - 205s 262ms/step - loss: 0.2157 - accuracy: 0.9176 - val_loss: 0.2739 - val_accuracy: 0.8920\n",
      "Epoch 8/70\n",
      "782/782 [==============================] - 205s 262ms/step - loss: 0.2100 - accuracy: 0.9186 - val_loss: 0.2641 - val_accuracy: 0.8941\n",
      "Epoch 9/70\n",
      "782/782 [==============================] - 205s 262ms/step - loss: 0.2038 - accuracy: 0.9243 - val_loss: 0.2725 - val_accuracy: 0.8949\n",
      "Epoch 10/70\n",
      "782/782 [==============================] - 206s 263ms/step - loss: 0.2002 - accuracy: 0.9250 - val_loss: 0.3249 - val_accuracy: 0.8831\n",
      "Epoch 11/70\n",
      "782/782 [==============================] - 204s 260ms/step - loss: 0.1944 - accuracy: 0.9272 - val_loss: 0.2621 - val_accuracy: 0.8982\n",
      "Epoch 12/70\n",
      "782/782 [==============================] - 205s 262ms/step - loss: 0.1901 - accuracy: 0.9273 - val_loss: 0.2780 - val_accuracy: 0.8960\n",
      "Epoch 13/70\n",
      "782/782 [==============================] - 205s 262ms/step - loss: 0.1869 - accuracy: 0.9304 - val_loss: 0.2872 - val_accuracy: 0.8860\n",
      "Epoch 14/70\n",
      "782/782 [==============================] - 205s 262ms/step - loss: 0.1855 - accuracy: 0.9304 - val_loss: 0.3021 - val_accuracy: 0.8849\n",
      "Epoch 15/70\n",
      "782/782 [==============================] - 207s 264ms/step - loss: 0.1818 - accuracy: 0.9326 - val_loss: 0.2723 - val_accuracy: 0.8968\n",
      "Epoch 16/70\n",
      "782/782 [==============================] - 307s 392ms/step - loss: 0.1793 - accuracy: 0.9341 - val_loss: 0.2647 - val_accuracy: 0.8994\n"
     ]
    }
   ],
   "source": [
    "callbacks = [\n",
    "    keras.callbacks.ModelCheckpoint(\"modelsAmazon/bidirectionallstm.keras\", monitor='val_loss', save_best_only=True),\n",
    "    keras.callbacks.EarlyStopping(monitor='val_loss', patience=5)\n",
    "]\n",
    "\n",
    "history = model.fit(x_train_int, y_train, epochs=70,validation_data=(x_test_int, y_test),callbacks=callbacks)"
   ]
  },
  {
   "cell_type": "code",
   "execution_count": 30,
   "id": "6278a668",
   "metadata": {},
   "outputs": [
    {
     "data": {
      "image/png": "[encoded data removed]",
      "text/plain": [
       "<Figure size 640x480 with 1 Axes>"
      ]
     },
     "metadata": {},
     "output_type": "display_data"
    },
    {
     "name": "stdout",
     "output_type": "stream",
     "text": [
      "Highers validation accuracy:  0.899399995803833\n"
     ]
    }
   ],
   "source": [
    "loss = history.history[\"accuracy\"]\n",
    "val_loss = history.history[\"val_accuracy\"]\n",
    "epochs = range(1, len(loss) + 1)\n",
    "\n",
    "plt.figure()\n",
    "plt.plot(epochs, loss, \"b-o\", label=\"Training Accuracy\")\n",
    "plt.plot(epochs, val_loss, \"r-o\", label=\"Validation Accuracy\")\n",
    "plt.title(\"Training and validation Accuracy\")\n",
    "plt.legend()\n",
    "plt.show()\n",
    "\n",
    "print(\"Highers validation accuracy: \", max(val_loss))"
   ]
  },
  {
   "attachments": {},
   "cell_type": "markdown",
   "id": "bcf57da1",
   "metadata": {},
   "source": [
    "# Results\n",
    "For the parameter maxFeatures, we've tried a value of 10000, which gave us 89.57% of accuracy, but after just 11 epochs, the model stopped improving, and it started to overfit. We increased the parameter to 15000, but the network just improved up to the second epoch, achieving 88.94% accuracy, with no improvement in the following 8 epochs (the value we set for the early stop). We changed the value to 5000, as well as adding early stopping with 5 epochs of patience. This time we've achieved an 89.93% of accuracy, stopping at 16 epochs (epoch 11 yielded the best results).\n",
    "\n",
    "Compared to the assignment's benchmark accuracy (84%), we improved it by almost 6%, with a relatively fast to train model. In order to try out a more exhaustive search of the optimal parameters, a grid search could be performed, testing all combinations of possible values for the parameters."
   ]
  }
 ],
 "metadata": {
  "kernelspec": {
   "display_name": "Python 3 (ipykernel)",
   "language": "python",
   "name": "python3"
  },
  "language_info": {
   "codemirror_mode": {
    "name": "ipython",
    "version": 3
   },
   "file_extension": ".py",
   "mimetype": "text/x-python",
   "name": "python",
   "nbconvert_exporter": "python",
   "pygments_lexer": "ipython3",
   "version": "3.10.10"
  }
 },
 "nbformat": 4,
 "nbformat_minor": 5
}
