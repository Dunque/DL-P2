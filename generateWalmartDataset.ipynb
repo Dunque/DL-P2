{
 "cells": [
  {
   "cell_type": "code",
   "execution_count": 9,
   "id": "e9bb350f",
   "metadata": {},
   "outputs": [],
   "source": [
    "import os\n",
    "import numpy as np\n",
    "import tensorflow as tf\n",
    "from tensorflow import keras\n",
    "from tensorflow.keras import layers\n",
    "import matplotlib.pyplot as plt"
   ]
  },
  {
   "cell_type": "code",
   "execution_count": 10,
   "id": "649b0883",
   "metadata": {},
   "outputs": [],
   "source": [
    "#Returns a numpy array with size nrows x ncolumns-1. nrows and ncolums are the rows and columns of the dataset\n",
    "#the Date column is skipped (ncolumns-1)\n",
    "def readData(fname):\n",
    "    with open(fname) as f:\n",
    "        fileData = f.read()\n",
    "  \n",
    "    lines = fileData.split(\"\\n\")\n",
    "    header = lines[0].split(\",\")\n",
    "    lines = lines[1:] \n",
    "    #print(header) \n",
    "    #print(\"Data rows: \", len(lines))\n",
    "\n",
    "    rawData = np.zeros((len(lines), len(header)-1)) #skip the Date column\n",
    "\n",
    "    for i, aLine in enumerate(lines):       \n",
    "        splittedLine = aLine.split(\",\")[:]\n",
    "        rawData[i, 0] = splittedLine[0]\n",
    "        rawData[i, 1:] = [float(x) for x in splittedLine[2:]] \n",
    "\n",
    "    return rawData"
   ]
  },
  {
   "cell_type": "code",
   "execution_count": 11,
   "id": "4cedb758",
   "metadata": {},
   "outputs": [],
   "source": [
    "#Returns the train and test data, normalized. It also returns the standard deviation of Weekly_Sales\n",
    "#Each list has a size equal to the number of stores\n",
    "#For each store there is a list of size trainNSamples (testNSamples) x nColums-1 (the store id is skipped)\n",
    "#Columns: Weekly_Sales,Holiday_Flag,Temperature,Fuel_Price,CPI,Unemployment\n",
    "def splitTrainTest(rawData, testPercent):\n",
    "\n",
    "    listStore = np.unique(rawData[:, 0])\n",
    "    trainNSamples = np.zeros(len(listStore))\n",
    "    \n",
    "    for i, storeId in enumerate(listStore):\n",
    "        trainNSamples[i] = np.count_nonzero(rawData[:, 0] == storeId)\n",
    "    trainNSamples = np.floor((1-testPercent) *  trainNSamples)\n",
    "\n",
    "    tmpTrain = np.zeros((int(np.sum(trainNSamples)), len(rawData[0])))\n",
    "\n",
    "    store = -1\n",
    "    counter = 0\n",
    "    counterTrain = 0\n",
    "    storeDict = dict(zip(listStore, trainNSamples))\n",
    "    for i, aLine in enumerate(rawData):\n",
    "        if store != aLine[0]:\n",
    "            store = int(aLine[0])\n",
    "            counter = 0\n",
    "        if(counter < storeDict.get(store)):\n",
    "            tmpTrain[counterTrain] = rawData[i][:]\n",
    "            counterTrain += 1\n",
    "            counter += 1\n",
    "\n",
    "    meanData = tmpTrain.mean(axis=0)\n",
    "    stdData = tmpTrain.std(axis=0)\n",
    "    rawNormData = (rawData - meanData) / stdData\n",
    "\n",
    "    allTrain = list()\n",
    "    allTest = list()\n",
    "    store = -1\n",
    "    counter = 0\n",
    "    for i, aLine in enumerate(rawNormData):\n",
    "        splittedLine = [float(x) for x in aLine[1:]] #skip store id\n",
    "        if store != rawData[i][0]:\n",
    "            if i != 0:\n",
    "                allTrain.append(storeDataTrain)\n",
    "                allTest.append(storeDataTest)\n",
    "            store = int(rawData[i][0])\n",
    "            storeDataTrain = list()\n",
    "            storeDataTest = list()\n",
    "            counter = 0\n",
    "\n",
    "        if(counter < storeDict.get(store)):\n",
    "            storeDataTrain.append(splittedLine)\n",
    "            counter += 1\n",
    "        else:\n",
    "            storeDataTest.append(splittedLine)\n",
    "\n",
    "        if i == len(rawNormData)-1:\n",
    "            allTrain.append(storeDataTrain)\n",
    "            allTest.append(storeDataTest)\n",
    "\n",
    "    return allTrain, allTest, stdData[1] #std of wSales"
   ]
  },
  {
   "cell_type": "code",
   "execution_count": 12,
   "id": "1eb8e1f6",
   "metadata": {},
   "outputs": [],
   "source": [
    "#generates a time series given the input and ouput data, the sequence length and the batch size\n",
    "#seqLength is the number of weeks (observations) of data to be used as input\n",
    "#the target will be the weekly sales in 2 weeks\n",
    "def generateTimeSeries(data, wSales, seqLength, batchSize):   \n",
    "    sampling_rate = 1 #keep all the data points \n",
    "    weeksInAdvance = 3\n",
    "    delay = sampling_rate * (seqLength + weeksInAdvance - 1) #the target will be the weekly sales in 2 weeks\n",
    "    \n",
    "    dataset = keras.utils.timeseries_dataset_from_array(\n",
    "        data[:-delay],\n",
    "        targets=wSales[delay:],\n",
    "        sampling_rate=sampling_rate,\n",
    "        sequence_length=seqLength,\n",
    "        shuffle=True,\n",
    "        batch_size=batchSize,\n",
    "        start_index=0)\n",
    "    \n",
    "    return dataset\n"
   ]
  },
  {
   "cell_type": "code",
   "execution_count": 13,
   "id": "d09807fa",
   "metadata": {},
   "outputs": [],
   "source": [
    "def printTimeSeriesList(theList):\n",
    "    print('list length', len(theList))\n",
    "    print('First element')\n",
    "    input, target = theList[0]\n",
    "    print([float(x) for x in input.numpy().flatten()], [float(x) for x in target.numpy().flatten()])\n",
    "    print('Last element')\n",
    "    input, target = theList[-1]\n",
    "    print([float(x) for x in input.numpy().flatten()], [float(x) for x in target.numpy().flatten()])"
   ]
  },
  {
   "cell_type": "code",
   "execution_count": 14,
   "id": "bbeb5250",
   "metadata": {},
   "outputs": [],
   "source": [
    "#returns the training and test time series\n",
    "#it also returns the standard deviation of Weekly_Sales, and the number of input features\n",
    "def generateTrainTestData(fileName, testPercent, seqLength, batchSize):\n",
    "    rawData = readData(os.path.join(fileName))\n",
    "    allTrain, allTest, stdSales = splitTrainTest(rawData, testPercent)\n",
    "    \n",
    "    for i in range(len(allTrain)):\n",
    "        tmp_train = generateTimeSeries(np.array(allTrain[i]), np.array(allTrain[i])[:,0], seqLength, batchSize)\n",
    "        tmp_test = generateTimeSeries(np.array(allTest[i]), np.array(allTest[i])[:,0], seqLength, batchSize)\n",
    "\n",
    "        if i == 0:\n",
    "            train_dataset = tmp_train\n",
    "            test_dataset = tmp_test\n",
    "        else:\n",
    "            train_dataset = train_dataset.concatenate(tmp_train)\n",
    "            test_dataset = test_dataset.concatenate(tmp_test)\n",
    "    \n",
    "    return train_dataset, test_dataset, stdSales, np.shape(allTrain)[2]"
   ]
  },
  {
   "cell_type": "code",
   "execution_count": 15,
   "id": "c42e5791",
   "metadata": {},
   "outputs": [],
   "source": [
    "#generateTrainTestData(fileName, testPercent, seqLength, batchSize):\n",
    "#trainData, testData: each element comes from keras.utils.timeseries_dataset_from_array, i.e., is a time series\n",
    "#Columns: Weekly_Sales,Holiday_Flag,Temperature,Fuel_Price,CPI,Unemployment\n",
    "\n",
    "testPercent = 0.2\n",
    "seqLength = 8\n",
    "batchSize = 1\n",
    "trainData, testData, stdSales, nFeatures = generateTrainTestData(\"data/walmart-sales-dataset-of-45stores.csv\",\n",
    "    testPercent, seqLength, batchSize) "
   ]
  },
  {
   "attachments": {},
   "cell_type": "markdown",
   "id": "29db13fd",
   "metadata": {},
   "source": [
    "# Basic RNN"
   ]
  },
  {
   "cell_type": "code",
   "execution_count": 18,
   "id": "4fe96902",
   "metadata": {},
   "outputs": [
    {
     "name": "stdout",
     "output_type": "stream",
     "text": [
      "Model: \"model_1\"\n",
      "_________________________________________________________________\n",
      " Layer (type)                Output Shape              Param #   \n",
      "=================================================================\n",
      " input_2 (InputLayer)        [(None, 8, 7)]            0         \n",
      "                                                                 \n",
      " simple_rnn_1 (SimpleRNN)    (None, 6)                 84        \n",
      "                                                                 \n",
      " dense_1 (Dense)             (None, 1)                 7         \n",
      "                                                                 \n",
      "=================================================================\n",
      "Total params: 91\n",
      "Trainable params: 91\n",
      "Non-trainable params: 0\n",
      "_________________________________________________________________\n"
     ]
    }
   ],
   "source": [
    "rawData = readData(os.path.join(\"data/walmart-sales-dataset-of-45stores.csv\"))\n",
    "\n",
    "inputs = keras.Input(shape=(seqLength, 6))\n",
    "x = layers.SimpleRNN(16)(inputs)\n",
    "outputs = layers.Dense(1)(x)\n",
    "model = keras.Model(inputs, outputs)\n",
    "  \n",
    "callbacks = [\n",
    "    keras.callbacks.ModelCheckpoint(\"walmart_basic_rnn.keras\",\n",
    "                                    save_best_only=True)\n",
    "]\n",
    "\n",
    "model.compile(optimizer=\"rmsprop\", loss=\"mse\", metrics=[\"mae\"])\n",
    "\n",
    "#print the model summary\n",
    "model.summary()"
   ]
  },
  {
   "cell_type": "code",
   "execution_count": 19,
   "id": "98da360c",
   "metadata": {},
   "outputs": [
    {
     "name": "stdout",
     "output_type": "stream",
     "text": [
      "Epoch 1/10\n"
     ]
    },
    {
     "ename": "ValueError",
     "evalue": "in user code:\n\n    File \"/home/roi.santos.rios/roi.santos.rios/.conda/envs/dl/lib/python3.10/site-packages/keras/engine/training.py\", line 1249, in train_function  *\n        return step_function(self, iterator)\n    File \"/home/roi.santos.rios/roi.santos.rios/.conda/envs/dl/lib/python3.10/site-packages/keras/engine/training.py\", line 1233, in step_function  **\n        outputs = model.distribute_strategy.run(run_step, args=(data,))\n    File \"/home/roi.santos.rios/roi.santos.rios/.conda/envs/dl/lib/python3.10/site-packages/keras/engine/training.py\", line 1222, in run_step  **\n        outputs = model.train_step(data)\n    File \"/home/roi.santos.rios/roi.santos.rios/.conda/envs/dl/lib/python3.10/site-packages/keras/engine/training.py\", line 1023, in train_step\n        y_pred = self(x, training=True)\n    File \"/home/roi.santos.rios/roi.santos.rios/.conda/envs/dl/lib/python3.10/site-packages/keras/utils/traceback_utils.py\", line 70, in error_handler\n        raise e.with_traceback(filtered_tb) from None\n    File \"/home/roi.santos.rios/roi.santos.rios/.conda/envs/dl/lib/python3.10/site-packages/keras/engine/input_spec.py\", line 295, in assert_input_compatibility\n        raise ValueError(\n\n    ValueError: Input 0 of layer \"model_1\" is incompatible with the layer: expected shape=(None, 8, 7), found shape=(None, None, 6)\n",
     "output_type": "error",
     "traceback": [
      "\u001b[0;31m---------------------------------------------------------------------------\u001b[0m",
      "\u001b[0;31mValueError\u001b[0m                                Traceback (most recent call last)",
      "Cell \u001b[0;32mIn[19], line 1\u001b[0m\n\u001b[0;32m----> 1\u001b[0m history \u001b[39m=\u001b[39m model\u001b[39m.\u001b[39;49mfit(trainData,\n\u001b[1;32m      2\u001b[0m                     epochs\u001b[39m=\u001b[39;49m\u001b[39m10\u001b[39;49m,\n\u001b[1;32m      3\u001b[0m                     validation_data\u001b[39m=\u001b[39;49mtestData,\n\u001b[1;32m      4\u001b[0m                     callbacks\u001b[39m=\u001b[39;49mcallbacks)\n\u001b[1;32m      5\u001b[0m model \u001b[39m=\u001b[39m keras\u001b[39m.\u001b[39mmodels\u001b[39m.\u001b[39mload_model(\u001b[39m\"\u001b[39m\u001b[39mwalmart_basic_rnn.keras\u001b[39m\u001b[39m\"\u001b[39m) \n\u001b[1;32m      6\u001b[0m \u001b[39m#print(f\"Test MAE: {model.evaluate(test_dataset)[1]:.2f}\")\u001b[39;00m\n",
      "File \u001b[0;32m~/.conda/envs/dl/lib/python3.10/site-packages/keras/utils/traceback_utils.py:70\u001b[0m, in \u001b[0;36mfilter_traceback.<locals>.error_handler\u001b[0;34m(*args, **kwargs)\u001b[0m\n\u001b[1;32m     67\u001b[0m     filtered_tb \u001b[39m=\u001b[39m _process_traceback_frames(e\u001b[39m.\u001b[39m__traceback__)\n\u001b[1;32m     68\u001b[0m     \u001b[39m# To get the full stack trace, call:\u001b[39;00m\n\u001b[1;32m     69\u001b[0m     \u001b[39m# `tf.debugging.disable_traceback_filtering()`\u001b[39;00m\n\u001b[0;32m---> 70\u001b[0m     \u001b[39mraise\u001b[39;00m e\u001b[39m.\u001b[39mwith_traceback(filtered_tb) \u001b[39mfrom\u001b[39;00m \u001b[39mNone\u001b[39m\n\u001b[1;32m     71\u001b[0m \u001b[39mfinally\u001b[39;00m:\n\u001b[1;32m     72\u001b[0m     \u001b[39mdel\u001b[39;00m filtered_tb\n",
      "File \u001b[0;32m/tmp/__autograph_generated_filenpg5kvta.py:15\u001b[0m, in \u001b[0;36mouter_factory.<locals>.inner_factory.<locals>.tf__train_function\u001b[0;34m(iterator)\u001b[0m\n\u001b[1;32m     13\u001b[0m \u001b[39mtry\u001b[39;00m:\n\u001b[1;32m     14\u001b[0m     do_return \u001b[39m=\u001b[39m \u001b[39mTrue\u001b[39;00m\n\u001b[0;32m---> 15\u001b[0m     retval_ \u001b[39m=\u001b[39m ag__\u001b[39m.\u001b[39mconverted_call(ag__\u001b[39m.\u001b[39mld(step_function), (ag__\u001b[39m.\u001b[39mld(\u001b[39mself\u001b[39m), ag__\u001b[39m.\u001b[39mld(iterator)), \u001b[39mNone\u001b[39;00m, fscope)\n\u001b[1;32m     16\u001b[0m \u001b[39mexcept\u001b[39;00m:\n\u001b[1;32m     17\u001b[0m     do_return \u001b[39m=\u001b[39m \u001b[39mFalse\u001b[39;00m\n",
      "\u001b[0;31mValueError\u001b[0m: in user code:\n\n    File \"/home/roi.santos.rios/roi.santos.rios/.conda/envs/dl/lib/python3.10/site-packages/keras/engine/training.py\", line 1249, in train_function  *\n        return step_function(self, iterator)\n    File \"/home/roi.santos.rios/roi.santos.rios/.conda/envs/dl/lib/python3.10/site-packages/keras/engine/training.py\", line 1233, in step_function  **\n        outputs = model.distribute_strategy.run(run_step, args=(data,))\n    File \"/home/roi.santos.rios/roi.santos.rios/.conda/envs/dl/lib/python3.10/site-packages/keras/engine/training.py\", line 1222, in run_step  **\n        outputs = model.train_step(data)\n    File \"/home/roi.santos.rios/roi.santos.rios/.conda/envs/dl/lib/python3.10/site-packages/keras/engine/training.py\", line 1023, in train_step\n        y_pred = self(x, training=True)\n    File \"/home/roi.santos.rios/roi.santos.rios/.conda/envs/dl/lib/python3.10/site-packages/keras/utils/traceback_utils.py\", line 70, in error_handler\n        raise e.with_traceback(filtered_tb) from None\n    File \"/home/roi.santos.rios/roi.santos.rios/.conda/envs/dl/lib/python3.10/site-packages/keras/engine/input_spec.py\", line 295, in assert_input_compatibility\n        raise ValueError(\n\n    ValueError: Input 0 of layer \"model_1\" is incompatible with the layer: expected shape=(None, 8, 7), found shape=(None, None, 6)\n"
     ]
    }
   ],
   "source": [
    "history = model.fit(trainData,\n",
    "                    epochs=10,\n",
    "                    validation_data=testData,\n",
    "                    callbacks=callbacks)\n",
    "model = keras.models.load_model(\"walmart_basic_rnn.keras\") \n",
    "#print(f\"Test MAE: {model.evaluate(test_dataset)[1]:.2f}\")"
   ]
  },
  {
   "cell_type": "code",
   "execution_count": null,
   "id": "1acb52ae",
   "metadata": {},
   "outputs": [],
   "source": [
    "\n",
    "loss = history.history[\"mae\"]\n",
    "val_loss = history.history[\"val_mae\"]\n",
    "epochs = range(1, len(loss) + 1)\n",
    "\n",
    "plt.figure()\n",
    "plt.plot(epochs, loss, \"b-o\", label=\"Training MAE\")\n",
    "plt.plot(epochs, val_loss, \"r-o\", label=\"Validation MAE\")\n",
    "plt.title(\"Training and validation MAE\")\n",
    "plt.legend()\n",
    "plt.show()"
   ]
  }
 ],
 "metadata": {
  "kernelspec": {
   "display_name": "Python 3 (ipykernel)",
   "language": "python",
   "name": "python3"
  },
  "language_info": {
   "codemirror_mode": {
    "name": "ipython",
    "version": 3
   },
   "file_extension": ".py",
   "mimetype": "text/x-python",
   "name": "python",
   "nbconvert_exporter": "python",
   "pygments_lexer": "ipython3",
   "version": "3.10.10"
  }
 },
 "nbformat": 4,
 "nbformat_minor": 5
}
